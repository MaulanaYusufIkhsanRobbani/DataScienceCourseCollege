{
  "cells": [
    {
      "cell_type": "code",
      "execution_count": 76,
      "metadata": {
        "colab": {
          "base_uri": "https://localhost:8080/"
        },
        "id": "UJgF_gKYaLF7",
        "outputId": "cfb86d61-3a1f-42b9-a917-770ac16fe751"
      },
      "outputs": [
        {
          "name": "stdout",
          "output_type": "stream",
          "text": [
            "Requirement already satisfied: xgboost in c:\\users\\user\\appdata\\local\\packages\\pythonsoftwarefoundation.python.3.11_qbz5n2kfra8p0\\localcache\\local-packages\\python311\\site-packages (2.0.3)Note: you may need to restart the kernel to use updated packages.\n"
          ]
        },
        {
          "name": "stderr",
          "output_type": "stream",
          "text": [
            "\n",
            "[notice] A new release of pip is available: 24.0 -> 24.1\n",
            "[notice] To update, run: C:\\Users\\User\\AppData\\Local\\Microsoft\\WindowsApps\\PythonSoftwareFoundation.Python.3.11_qbz5n2kfra8p0\\python.exe -m pip install --upgrade pip\n"
          ]
        },
        {
          "name": "stdout",
          "output_type": "stream",
          "text": [
            "\n",
            "Requirement already satisfied: numpy in c:\\users\\user\\appdata\\local\\packages\\pythonsoftwarefoundation.python.3.11_qbz5n2kfra8p0\\localcache\\local-packages\\python311\\site-packages (from xgboost) (1.24.3)\n",
            "Requirement already satisfied: scipy in c:\\users\\user\\appdata\\local\\packages\\pythonsoftwarefoundation.python.3.11_qbz5n2kfra8p0\\localcache\\local-packages\\python311\\site-packages (from xgboost) (1.11.1)\n"
          ]
        }
      ],
      "source": [
        "pip install xgboost"
      ]
    },
    {
      "cell_type": "code",
      "execution_count": 77,
      "metadata": {
        "colab": {
          "base_uri": "https://localhost:8080/"
        },
        "id": "LnR4gtS4akR_",
        "outputId": "56adf463-8fe4-42cf-e386-cad8b042ff55"
      },
      "outputs": [
        {
          "name": "stdout",
          "output_type": "stream",
          "text": [
            "Collecting imblearn\n",
            "  Downloading imblearn-0.0-py2.py3-none-any.whl.metadata (355 bytes)\n",
            "Requirement already satisfied: imbalanced-learn in c:\\users\\user\\appdata\\local\\packages\\pythonsoftwarefoundation.python.3.11_qbz5n2kfra8p0\\localcache\\local-packages\\python311\\site-packages (from imblearn) (0.12.3)\n",
            "Requirement already satisfied: numpy>=1.17.3 in c:\\users\\user\\appdata\\local\\packages\\pythonsoftwarefoundation.python.3.11_qbz5n2kfra8p0\\localcache\\local-packages\\python311\\site-packages (from imbalanced-learn->imblearn) (1.24.3)\n",
            "Requirement already satisfied: scipy>=1.5.0 in c:\\users\\user\\appdata\\local\\packages\\pythonsoftwarefoundation.python.3.11_qbz5n2kfra8p0\\localcache\\local-packages\\python311\\site-packages (from imbalanced-learn->imblearn) (1.11.1)\n",
            "Requirement already satisfied: scikit-learn>=1.0.2 in c:\\users\\user\\appdata\\local\\packages\\pythonsoftwarefoundation.python.3.11_qbz5n2kfra8p0\\localcache\\local-packages\\python311\\site-packages (from imbalanced-learn->imblearn) (1.4.1.post1)\n",
            "Requirement already satisfied: joblib>=1.1.1 in c:\\users\\user\\appdata\\local\\packages\\pythonsoftwarefoundation.python.3.11_qbz5n2kfra8p0\\localcache\\local-packages\\python311\\site-packages (from imbalanced-learn->imblearn) (1.3.2)\n",
            "Requirement already satisfied: threadpoolctl>=2.0.0 in c:\\users\\user\\appdata\\local\\packages\\pythonsoftwarefoundation.python.3.11_qbz5n2kfra8p0\\localcache\\local-packages\\python311\\site-packages (from imbalanced-learn->imblearn) (3.3.0)\n",
            "Downloading imblearn-0.0-py2.py3-none-any.whl (1.9 kB)\n",
            "Installing collected packages: imblearn\n",
            "Successfully installed imblearn-0.0\n",
            "Note: you may need to restart the kernel to use updated packages.\n"
          ]
        },
        {
          "name": "stderr",
          "output_type": "stream",
          "text": [
            "WARNING: Retrying (Retry(total=4, connect=None, read=None, redirect=None, status=None)) after connection broken by 'ProtocolError('Connection aborted.', ConnectionResetError(10054, 'An existing connection was forcibly closed by the remote host', None, 10054, None))': /simple/imblearn/\n",
            "\n",
            "[notice] A new release of pip is available: 24.0 -> 24.1\n",
            "[notice] To update, run: C:\\Users\\User\\AppData\\Local\\Microsoft\\WindowsApps\\PythonSoftwareFoundation.Python.3.11_qbz5n2kfra8p0\\python.exe -m pip install --upgrade pip\n"
          ]
        }
      ],
      "source": [
        "pip install imblearn"
      ]
    },
    {
      "cell_type": "code",
      "execution_count": 78,
      "metadata": {},
      "outputs": [
        {
          "name": "stdout",
          "output_type": "stream",
          "text": [
            "Requirement already satisfied: imbalanced-learn in c:\\users\\user\\appdata\\local\\packages\\pythonsoftwarefoundation.python.3.11_qbz5n2kfra8p0\\localcache\\local-packages\\python311\\site-packages (0.12.3)\n",
            "Requirement already satisfied: numpy>=1.17.3 in c:\\users\\user\\appdata\\local\\packages\\pythonsoftwarefoundation.python.3.11_qbz5n2kfra8p0\\localcache\\local-packages\\python311\\site-packages (from imbalanced-learn) (1.24.3)\n",
            "Requirement already satisfied: scipy>=1.5.0 in c:\\users\\user\\appdata\\local\\packages\\pythonsoftwarefoundation.python.3.11_qbz5n2kfra8p0\\localcache\\local-packages\\python311\\site-packages (from imbalanced-learn) (1.11.1)\n",
            "Requirement already satisfied: scikit-learn>=1.0.2 in c:\\users\\user\\appdata\\local\\packages\\pythonsoftwarefoundation.python.3.11_qbz5n2kfra8p0\\localcache\\local-packages\\python311\\site-packages (from imbalanced-learn) (1.4.1.post1)\n",
            "Requirement already satisfied: joblib>=1.1.1 in c:\\users\\user\\appdata\\local\\packages\\pythonsoftwarefoundation.python.3.11_qbz5n2kfra8p0\\localcache\\local-packages\\python311\\site-packages (from imbalanced-learn) (1.3.2)\n",
            "Requirement already satisfied: threadpoolctl>=2.0.0 in c:\\users\\user\\appdata\\local\\packages\\pythonsoftwarefoundation.python.3.11_qbz5n2kfra8p0\\localcache\\local-packages\\python311\\site-packages (from imbalanced-learn) (3.3.0)\n",
            "Note: you may need to restart the kernel to use updated packages.\n"
          ]
        },
        {
          "name": "stderr",
          "output_type": "stream",
          "text": [
            "\n",
            "[notice] A new release of pip is available: 24.0 -> 24.1\n",
            "[notice] To update, run: C:\\Users\\User\\AppData\\Local\\Microsoft\\WindowsApps\\PythonSoftwareFoundation.Python.3.11_qbz5n2kfra8p0\\python.exe -m pip install --upgrade pip\n"
          ]
        }
      ],
      "source": [
        "pip install -U imbalanced-learn"
      ]
    },
    {
      "cell_type": "code",
      "execution_count": 79,
      "metadata": {
        "execution": {
          "iopub.execute_input": "2024-06-21T15:02:04.790734Z",
          "iopub.status.busy": "2024-06-21T15:02:04.790332Z",
          "iopub.status.idle": "2024-06-21T15:02:04.799775Z",
          "shell.execute_reply": "2024-06-21T15:02:04.798864Z",
          "shell.execute_reply.started": "2024-06-21T15:02:04.790695Z"
        },
        "id": "T3mJS9SYFfeK",
        "trusted": true
      },
      "outputs": [],
      "source": [
        "import pandas as pd\n",
        "from sklearn.preprocessing import LabelEncoder, OneHotEncoder, StandardScaler\n",
        "from sklearn.model_selection import train_test_split, cross_val_score\n",
        "from sklearn.linear_model import LogisticRegression\n",
        "from sklearn.tree import DecisionTreeClassifier\n",
        "from sklearn.ensemble import RandomForestClassifier, GradientBoostingClassifier\n",
        "from xgboost import XGBClassifier\n",
        "from sklearn.metrics import accuracy_score, classification_report\n",
        "from imblearn.over_sampling import SMOTE\n",
        "import xgboost as xgb\n",
        "import seaborn as sns\n",
        "import matplotlib.pyplot as plt"
      ]
    },
    {
      "cell_type": "code",
      "execution_count": 80,
      "metadata": {
        "execution": {
          "iopub.execute_input": "2024-06-21T15:02:04.801194Z",
          "iopub.status.busy": "2024-06-21T15:02:04.800896Z",
          "iopub.status.idle": "2024-06-21T15:02:04.809749Z",
          "shell.execute_reply": "2024-06-21T15:02:04.808967Z",
          "shell.execute_reply.started": "2024-06-21T15:02:04.801153Z"
        },
        "id": "NuXucmolFfeK",
        "trusted": true
      },
      "outputs": [],
      "source": [
        "SEED = 27 #611240 for lgbm\n",
        "N_FOLDS = 5\n",
        "TARGET = 'Target'"
      ]
    },
    {
      "cell_type": "markdown",
      "metadata": {
        "id": "zvS-pgdPT0Os"
      },
      "source": [
        "List Model\n",
        "- Balanced Random Forest\n",
        "- Random Forest\n",
        "- Light GBM\n",
        "- Catboost\n"
      ]
    },
    {
      "cell_type": "code",
      "execution_count": 81,
      "metadata": {
        "execution": {
          "iopub.execute_input": "2024-06-21T15:02:04.811199Z",
          "iopub.status.busy": "2024-06-21T15:02:04.810873Z",
          "iopub.status.idle": "2024-06-21T15:02:05.215842Z",
          "shell.execute_reply": "2024-06-21T15:02:05.214962Z",
          "shell.execute_reply.started": "2024-06-21T15:02:04.811169Z"
        },
        "id": "ArhhugmuFfeL",
        "trusted": true
      },
      "outputs": [],
      "source": [
        "train=pd.read_csv('D:/Local Disk C/Python project/src/Tugas/EAS PSD/train.csv')\n",
        "test=pd.read_csv('D:/Local Disk C/Python project/src/Tugas/EAS PSD/test.csv')"
      ]
    },
    {
      "cell_type": "code",
      "execution_count": 82,
      "metadata": {
        "colab": {
          "base_uri": "https://localhost:8080/"
        },
        "id": "r9_2JaqpNMwQ",
        "outputId": "17b17c58-78cf-4fa3-f9f0-a6e8b35fde8c"
      },
      "outputs": [
        {
          "name": "stdout",
          "output_type": "stream",
          "text": [
            "<class 'pandas.core.frame.DataFrame'>\n",
            "RangeIndex: 76518 entries, 0 to 76517\n",
            "Data columns (total 38 columns):\n",
            " #   Column                                          Non-Null Count  Dtype  \n",
            "---  ------                                          --------------  -----  \n",
            " 0   id                                              76518 non-null  int64  \n",
            " 1   Marital status                                  76518 non-null  int64  \n",
            " 2   Application mode                                76518 non-null  int64  \n",
            " 3   Application order                               76518 non-null  int64  \n",
            " 4   Course                                          76518 non-null  int64  \n",
            " 5   Daytime/evening attendance                      76518 non-null  int64  \n",
            " 6   Previous qualification                          76518 non-null  int64  \n",
            " 7   Previous qualification (grade)                  76518 non-null  float64\n",
            " 8   Nacionality                                     76518 non-null  int64  \n",
            " 9   Mother's qualification                          76518 non-null  int64  \n",
            " 10  Father's qualification                          76518 non-null  int64  \n",
            " 11  Mother's occupation                             76518 non-null  int64  \n",
            " 12  Father's occupation                             76518 non-null  int64  \n",
            " 13  Admission grade                                 76518 non-null  float64\n",
            " 14  Displaced                                       76518 non-null  int64  \n",
            " 15  Educational special needs                       76518 non-null  int64  \n",
            " 16  Debtor                                          76518 non-null  int64  \n",
            " 17  Tuition fees up to date                         76518 non-null  int64  \n",
            " 18  Gender                                          76518 non-null  int64  \n",
            " 19  Scholarship holder                              76518 non-null  int64  \n",
            " 20  Age at enrollment                               76518 non-null  int64  \n",
            " 21  International                                   76518 non-null  int64  \n",
            " 22  Curricular units 1st sem (credited)             76518 non-null  int64  \n",
            " 23  Curricular units 1st sem (enrolled)             76518 non-null  int64  \n",
            " 24  Curricular units 1st sem (evaluations)          76518 non-null  int64  \n",
            " 25  Curricular units 1st sem (approved)             76518 non-null  int64  \n",
            " 26  Curricular units 1st sem (grade)                76518 non-null  float64\n",
            " 27  Curricular units 1st sem (without evaluations)  76518 non-null  int64  \n",
            " 28  Curricular units 2nd sem (credited)             76518 non-null  int64  \n",
            " 29  Curricular units 2nd sem (enrolled)             76518 non-null  int64  \n",
            " 30  Curricular units 2nd sem (evaluations)          76518 non-null  int64  \n",
            " 31  Curricular units 2nd sem (approved)             76518 non-null  int64  \n",
            " 32  Curricular units 2nd sem (grade)                76518 non-null  float64\n",
            " 33  Curricular units 2nd sem (without evaluations)  76518 non-null  int64  \n",
            " 34  Unemployment rate                               76518 non-null  float64\n",
            " 35  Inflation rate                                  76518 non-null  float64\n",
            " 36  GDP                                             76518 non-null  float64\n",
            " 37  Target                                          76518 non-null  object \n",
            "dtypes: float64(7), int64(30), object(1)\n",
            "memory usage: 22.2+ MB\n"
          ]
        }
      ],
      "source": [
        "train.info()"
      ]
    },
    {
      "cell_type": "code",
      "execution_count": 83,
      "metadata": {
        "colab": {
          "base_uri": "https://localhost:8080/"
        },
        "id": "_M6JDYkQOERC",
        "outputId": "cf88ec7b-5db8-44fc-e478-d5ad067cf019"
      },
      "outputs": [
        {
          "data": {
            "text/plain": [
              "Index(['id', 'Marital status', 'Application mode', 'Application order',\n",
              "       'Course', 'Daytime/evening attendance', 'Previous qualification',\n",
              "       'Previous qualification (grade)', 'Nacionality',\n",
              "       'Mother's qualification', 'Father's qualification',\n",
              "       'Mother's occupation', 'Father's occupation', 'Admission grade',\n",
              "       'Displaced', 'Educational special needs', 'Debtor',\n",
              "       'Tuition fees up to date', 'Gender', 'Scholarship holder',\n",
              "       'Age at enrollment', 'International',\n",
              "       'Curricular units 1st sem (credited)',\n",
              "       'Curricular units 1st sem (enrolled)',\n",
              "       'Curricular units 1st sem (evaluations)',\n",
              "       'Curricular units 1st sem (approved)',\n",
              "       'Curricular units 1st sem (grade)',\n",
              "       'Curricular units 1st sem (without evaluations)',\n",
              "       'Curricular units 2nd sem (credited)',\n",
              "       'Curricular units 2nd sem (enrolled)',\n",
              "       'Curricular units 2nd sem (evaluations)',\n",
              "       'Curricular units 2nd sem (approved)',\n",
              "       'Curricular units 2nd sem (grade)',\n",
              "       'Curricular units 2nd sem (without evaluations)', 'Unemployment rate',\n",
              "       'Inflation rate', 'GDP'],\n",
              "      dtype='object')"
            ]
          },
          "execution_count": 83,
          "metadata": {},
          "output_type": "execute_result"
        }
      ],
      "source": [
        "num_cols = train._get_numeric_data().columns\n",
        "num_cols"
      ]
    },
    {
      "cell_type": "code",
      "execution_count": 84,
      "metadata": {
        "colab": {
          "base_uri": "https://localhost:8080/"
        },
        "id": "BYMebXYeQmc5",
        "outputId": "8192f049-9930-4791-c2f9-f2ee08c35052"
      },
      "outputs": [
        {
          "name": "stdout",
          "output_type": "stream",
          "text": [
            "<class 'pandas.core.frame.DataFrame'>\n",
            "RangeIndex: 51012 entries, 0 to 51011\n",
            "Data columns (total 37 columns):\n",
            " #   Column                                          Non-Null Count  Dtype  \n",
            "---  ------                                          --------------  -----  \n",
            " 0   id                                              51012 non-null  int64  \n",
            " 1   Marital status                                  51012 non-null  int64  \n",
            " 2   Application mode                                51012 non-null  int64  \n",
            " 3   Application order                               51012 non-null  int64  \n",
            " 4   Course                                          51012 non-null  int64  \n",
            " 5   Daytime/evening attendance                      51012 non-null  int64  \n",
            " 6   Previous qualification                          51012 non-null  int64  \n",
            " 7   Previous qualification (grade)                  51012 non-null  float64\n",
            " 8   Nacionality                                     51012 non-null  int64  \n",
            " 9   Mother's qualification                          51012 non-null  int64  \n",
            " 10  Father's qualification                          51012 non-null  int64  \n",
            " 11  Mother's occupation                             51012 non-null  int64  \n",
            " 12  Father's occupation                             51012 non-null  int64  \n",
            " 13  Admission grade                                 51012 non-null  float64\n",
            " 14  Displaced                                       51012 non-null  int64  \n",
            " 15  Educational special needs                       51012 non-null  int64  \n",
            " 16  Debtor                                          51012 non-null  int64  \n",
            " 17  Tuition fees up to date                         51012 non-null  int64  \n",
            " 18  Gender                                          51012 non-null  int64  \n",
            " 19  Scholarship holder                              51012 non-null  int64  \n",
            " 20  Age at enrollment                               51012 non-null  int64  \n",
            " 21  International                                   51012 non-null  int64  \n",
            " 22  Curricular units 1st sem (credited)             51012 non-null  int64  \n",
            " 23  Curricular units 1st sem (enrolled)             51012 non-null  int64  \n",
            " 24  Curricular units 1st sem (evaluations)          51012 non-null  int64  \n",
            " 25  Curricular units 1st sem (approved)             51012 non-null  int64  \n",
            " 26  Curricular units 1st sem (grade)                51012 non-null  float64\n",
            " 27  Curricular units 1st sem (without evaluations)  51012 non-null  int64  \n",
            " 28  Curricular units 2nd sem (credited)             51012 non-null  int64  \n",
            " 29  Curricular units 2nd sem (enrolled)             51012 non-null  int64  \n",
            " 30  Curricular units 2nd sem (evaluations)          51012 non-null  int64  \n",
            " 31  Curricular units 2nd sem (approved)             51012 non-null  int64  \n",
            " 32  Curricular units 2nd sem (grade)                51012 non-null  float64\n",
            " 33  Curricular units 2nd sem (without evaluations)  51012 non-null  int64  \n",
            " 34  Unemployment rate                               51012 non-null  float64\n",
            " 35  Inflation rate                                  51012 non-null  float64\n",
            " 36  GDP                                             51012 non-null  float64\n",
            "dtypes: float64(7), int64(30)\n",
            "memory usage: 14.4 MB\n"
          ]
        }
      ],
      "source": [
        "test.info()"
      ]
    },
    {
      "cell_type": "code",
      "execution_count": 85,
      "metadata": {
        "execution": {
          "iopub.execute_input": "2024-06-21T15:02:05.227343Z",
          "iopub.status.busy": "2024-06-21T15:02:05.227037Z",
          "iopub.status.idle": "2024-06-21T15:02:05.258145Z",
          "shell.execute_reply": "2024-06-21T15:02:05.256913Z",
          "shell.execute_reply.started": "2024-06-21T15:02:05.227318Z"
        },
        "id": "9RwBvZZpFfeM",
        "trusted": true
      },
      "outputs": [],
      "source": [
        "cat_features = [\n",
        "    'Marital status',\n",
        "    'Application mode',\n",
        "    'Course',\n",
        "    'Previous qualification',\n",
        "    'Nacionality',\n",
        "    \"Mother's qualification\",\n",
        "    \"Father's qualification\",\n",
        "    \"Mother's occupation\",\n",
        "    \"Father's occupation\"\n",
        "]\n",
        "\n"
      ]
    },
    {
      "cell_type": "code",
      "execution_count": 86,
      "metadata": {
        "colab": {
          "base_uri": "https://localhost:8080/"
        },
        "id": "iM3ERD5Hbmr5",
        "outputId": "dab9401d-27fb-4257-b53b-63a744503593"
      },
      "outputs": [
        {
          "data": {
            "text/plain": [
              "array(['Graduate', 'Dropout', 'Enrolled'], dtype=object)"
            ]
          },
          "execution_count": 86,
          "metadata": {},
          "output_type": "execute_result"
        }
      ],
      "source": [
        "train['Target'].unique()"
      ]
    },
    {
      "cell_type": "code",
      "execution_count": 87,
      "metadata": {
        "colab": {
          "base_uri": "https://localhost:8080/"
        },
        "id": "v-lufAHUSPoh",
        "outputId": "d8ca42d3-6868-45a6-af8d-8fb61dc64f14"
      },
      "outputs": [
        {
          "name": "stdout",
          "output_type": "stream",
          "text": [
            "Marital status\n",
            "6\n",
            "Application mode\n",
            "22\n",
            "Course\n",
            "19\n",
            "Previous qualification\n",
            "21\n",
            "Nacionality\n",
            "18\n",
            "Mother's qualification\n",
            "35\n",
            "Father's qualification\n",
            "39\n",
            "Mother's occupation\n",
            "40\n",
            "Father's occupation\n",
            "56\n"
          ]
        }
      ],
      "source": [
        "for i in cat_features:\n",
        "  print(i)\n",
        "  print(train[i].nunique())"
      ]
    },
    {
      "cell_type": "markdown",
      "metadata": {
        "id": "MLEGw76VWw3e"
      },
      "source": [
        "Split which feature that neede to one hot or label encoding"
      ]
    },
    {
      "cell_type": "code",
      "execution_count": 88,
      "metadata": {
        "id": "qa7a24OCXEvp"
      },
      "outputs": [],
      "source": [
        "label_features = [\"Mother's qualification\",\n",
        "    \"Father's qualification\",\n",
        "    \"Mother's occupation\",\n",
        "    \"Father's occupation\",\n",
        "    'Marital status']\n",
        "onehot_features = ['Application mode',\n",
        "    'Course',\n",
        "    'Previous qualification',\n",
        "    'Nacionality']"
      ]
    },
    {
      "cell_type": "code",
      "execution_count": 89,
      "metadata": {
        "colab": {
          "base_uri": "https://localhost:8080/",
          "height": 356
        },
        "id": "GHBoQ6qFPc1W",
        "outputId": "5d124486-99d5-4c46-ddf8-a19edd3ce747"
      },
      "outputs": [],
      "source": [
        "# # One-hot encoding\n",
        "# for cat in onehot_features:\n",
        "#     onehots = pd.get_dummies(test[cat], prefix=cat)\n",
        "#     test = test.join(onehots)\n",
        "\n",
        "# for cat in onehot_features:\n",
        "#     onehots_tr = pd.get_dummies(train[cat], prefix=cat)\n",
        "#     train = train.join(onehots_tr)\n",
        "\n",
        "# # Drop original columns\n",
        "# encode_data_test = test.drop(columns=onehot_features).copy()\n",
        "\n",
        "# encode_data_train = train.drop(columns=onehot_features).copy()\n",
        "# # Fill NaN values with 0\n",
        "# encode_data_test.fillna(0, inplace=True)\n",
        "# bool_cols = encode_data_test.select_dtypes(include='bool').columns.tolist()\n",
        "# encode_data_test[bool_cols] = encode_data_test[bool_cols].astype(float)\n",
        "\n",
        "# encode_data_train.fillna(0, inplace=True)\n",
        "# bool_cols = encode_data_train.select_dtypes(include='bool').columns.tolist()\n",
        "# encode_data_train[bool_cols] = encode_data_train[bool_cols].astype(float)"
      ]
    },
    {
      "cell_type": "code",
      "execution_count": 90,
      "metadata": {
        "id": "kptiWEfCwMLK"
      },
      "outputs": [],
      "source": [
        "# for col in cat_features:\n",
        "#     train[col] = train[col].astype('category')\n",
        "#     test[col] = test[col].astype('category')"
      ]
    },
    {
      "cell_type": "code",
      "execution_count": 91,
      "metadata": {},
      "outputs": [],
      "source": [
        "# one_hot = OneHotEncoder()"
      ]
    },
    {
      "cell_type": "code",
      "execution_count": 92,
      "metadata": {
        "id": "mHQ4b0CHSIv1"
      },
      "outputs": [],
      "source": [
        "# encode_data_train.head()"
      ]
    },
    {
      "cell_type": "code",
      "execution_count": 93,
      "metadata": {
        "execution": {
          "iopub.execute_input": "2024-06-21T15:02:05.259525Z",
          "iopub.status.busy": "2024-06-21T15:02:05.259197Z",
          "iopub.status.idle": "2024-06-21T15:02:05.270957Z",
          "shell.execute_reply": "2024-06-21T15:02:05.269932Z",
          "shell.execute_reply.started": "2024-06-21T15:02:05.259494Z"
        },
        "id": "ng_oW4EZFfeN",
        "trusted": true
      },
      "outputs": [],
      "source": [
        "# X = encode_data_train.drop(TARGET, axis=1)\n",
        "# y = encode_data_train[TARGET]"
      ]
    },
    {
      "cell_type": "code",
      "execution_count": 94,
      "metadata": {},
      "outputs": [],
      "source": [
        "X = train.drop(TARGET, axis=1)\n",
        "y = train[TARGET]"
      ]
    },
    {
      "cell_type": "code",
      "execution_count": 95,
      "metadata": {
        "id": "7u8GQA67fVC2"
      },
      "outputs": [
        {
          "data": {
            "text/plain": [
              "0    Graduate\n",
              "1     Dropout\n",
              "2     Dropout\n",
              "3    Enrolled\n",
              "4    Graduate\n",
              "Name: Target, dtype: object"
            ]
          },
          "execution_count": 95,
          "metadata": {},
          "output_type": "execute_result"
        }
      ],
      "source": [
        "y.head()"
      ]
    },
    {
      "cell_type": "code",
      "execution_count": 96,
      "metadata": {
        "id": "xIox8h3gGdQ1"
      },
      "outputs": [],
      "source": [
        "smote = SMOTE(random_state=42)\n",
        "X_resampled, y_resampled = smote.fit_resample(X, y)"
      ]
    },
    {
      "cell_type": "code",
      "execution_count": 97,
      "metadata": {
        "id": "gg4spEEQe7i9"
      },
      "outputs": [
        {
          "data": {
            "text/plain": [
              "0    Graduate\n",
              "1     Dropout\n",
              "2     Dropout\n",
              "3    Enrolled\n",
              "4    Graduate\n",
              "Name: Target, dtype: object"
            ]
          },
          "execution_count": 97,
          "metadata": {},
          "output_type": "execute_result"
        }
      ],
      "source": [
        "y_resampled.head()"
      ]
    },
    {
      "cell_type": "code",
      "execution_count": 98,
      "metadata": {
        "id": "kl1WmW1jgCiU"
      },
      "outputs": [],
      "source": [
        "label_encoder = LabelEncoder()\n",
        "y_resampled = label_encoder.fit_transform(y_resampled)"
      ]
    },
    {
      "cell_type": "code",
      "execution_count": 99,
      "metadata": {},
      "outputs": [],
      "source": [
        "scaler = StandardScaler()\n",
        "scaler.fit(X_resampled)\n",
        "X_train_scaled = pd.DataFrame(scaler.transform(X_resampled), columns=X_resampled.columns)"
      ]
    },
    {
      "cell_type": "code",
      "execution_count": 124,
      "metadata": {},
      "outputs": [],
      "source": [
        "one_hot = OneHotEncoder()\n",
        "one_hot.fit(X_train_scaled[onehot_features])\n",
        "one_hot_encoded = one_hot.transform(X_train_scaled[onehot_features]).toarray()"
      ]
    },
    {
      "cell_type": "code",
      "execution_count": 101,
      "metadata": {
        "execution": {
          "iopub.execute_input": "2024-06-21T15:02:05.298068Z",
          "iopub.status.busy": "2024-06-21T15:02:05.297783Z",
          "iopub.status.idle": "2024-06-21T15:02:05.306414Z",
          "shell.execute_reply": "2024-06-21T15:02:05.305495Z",
          "shell.execute_reply.started": "2024-06-21T15:02:05.298044Z"
        },
        "id": "JaCsu9IzFfeO",
        "trusted": true
      },
      "outputs": [],
      "source": [
        "# # Split the data into training and validation sets\n",
        "# X_train, X_val, y_train, y_val = train_test_split(X_train_scaled, y_resampled, test_size=0.2, random_state=42)\n",
        "\n"
      ]
    },
    {
      "cell_type": "code",
      "execution_count": 102,
      "metadata": {
        "execution": {
          "iopub.execute_input": "2024-06-21T15:19:55.690623Z",
          "iopub.status.busy": "2024-06-21T15:19:55.690187Z",
          "iopub.status.idle": "2024-06-21T15:19:55.703536Z",
          "shell.execute_reply": "2024-06-21T15:19:55.702503Z",
          "shell.execute_reply.started": "2024-06-21T15:19:55.690591Z"
        },
        "id": "PYf2UroQFfeP",
        "trusted": true
      },
      "outputs": [],
      "source": [
        "SEED = 27\n",
        "xgb_params = {\n",
        "    'n_jobs': -1,\n",
        "    'max_bin': 86,\n",
        "    'verbosity': 0,\n",
        "    'max_depth': 5,\n",
        "    'max_leaves': 64,\n",
        "    'booster': 'gbtree',\n",
        "    'n_estimators': 1539,\n",
        "    'random_state': SEED,\n",
        "    'enable_categorical': True,\n",
        "    'gamma': 0.9069384135972282,\n",
        "    'reg_alpha': 9.076826031603096,\n",
        "    'subsample': 0.9335856723937552,\n",
        "    'reg_lambda': 3.7191495119106976,\n",
        "    'max_delta_step': 1.1802158903460869,\n",
        "    'min_child_weight': 8.745168792677534,\n",
        "    'colsample_bynode': 0.8390631221126779,\n",
        "    'colsample_bytree': 0.5534666374509267,\n",
        "    'colsample_bylevel': 0.5695267422612745,\n",
        "}\n",
        "\n",
        "cb_params = {\n",
        "    'depth': 9,\n",
        "    'verbose': False,\n",
        "    'thread_count': -1,\n",
        "    'iterations': 1830,\n",
        "    'border_count': 200,\n",
        "    'random_state': SEED,\n",
        "    'min_child_samples': 4,\n",
        "    'bootstrap_type': 'Bernoulli',  # Supported type\n",
        "    'grow_policy': 'Depthwise',\n",
        "    'l2_leaf_reg': 4.349614487163372,\n",
        "    'random_strength': 0.16489500172653238,\n",
        "    'cat_features': cat_features,\n",
        "    'task_type': 'GPU',  # Ensure GPU usage\n",
        "    'devices': '0'  # Specify GPU device\n",
        "}\n",
        "\n",
        "lgbm_params = {\n",
        "    'n_jobs': -1,\n",
        "    'verbose': -1,\n",
        "    'max_depth': 77,\n",
        "    'num_leaves': 42,\n",
        "    'subsample_freq': 8,\n",
        "    'n_estimators': 169,\n",
        "    'random_state': SEED,\n",
        "    'min_child_samples': 199,\n",
        "    'device': 'gpu',\n",
        "    'subsample': 0.9178993412905838,\n",
        "    'reg_alpha': 0.9200214666236493,\n",
        "    'reg_lambda': 0.2652568189927319,\n",
        "    'min_child_weight': 0.4410010971781976,\n",
        "    'colsample_bytree': 0.35379935570036725,\n",
        "\n",
        "}\n",
        "\n",
        "hgb_params = {\n",
        "    'verbose': 0,\n",
        "    'max_depth': 4,\n",
        "    'max_bins': 250,\n",
        "    'max_iter': 1522,\n",
        "    'max_leaf_nodes': 92,\n",
        "    'random_state': SEED,\n",
        "    'min_samples_leaf': 44,\n",
        "    'l2_regularization': 0.4495943539321024,\n",
        "}\n",
        "\n",
        "gb_params = {\n",
        "    'verbose': 0,\n",
        "    'max_depth': 4,\n",
        "    'subsample': 0.9,\n",
        "    'n_estimators': 600,\n",
        "    'random_state': SEED,\n",
        "    'learning_rate': 0.05,\n",
        "}\n",
        "\n",
        "rf_params = {\n",
        "    'verbose': 0,\n",
        "    'max_depth': None,\n",
        "    'n_estimators': 1200,\n",
        "    'random_state': SEED,\n",
        "}"
      ]
    },
    {
      "cell_type": "code",
      "execution_count": 103,
      "metadata": {
        "execution": {
          "iopub.execute_input": "2024-06-21T15:19:56.849024Z",
          "iopub.status.busy": "2024-06-21T15:19:56.848323Z",
          "iopub.status.idle": "2024-06-21T15:31:51.852226Z",
          "shell.execute_reply": "2024-06-21T15:31:51.851239Z",
          "shell.execute_reply.started": "2024-06-21T15:19:56.848996Z"
        },
        "id": "uzG7jnBTFfeP",
        "trusted": true
      },
      "outputs": [
        {
          "data": {
            "text/html": [
              "<style>#sk-container-id-2 {\n",
              "  /* Definition of color scheme common for light and dark mode */\n",
              "  --sklearn-color-text: black;\n",
              "  --sklearn-color-line: gray;\n",
              "  /* Definition of color scheme for unfitted estimators */\n",
              "  --sklearn-color-unfitted-level-0: #fff5e6;\n",
              "  --sklearn-color-unfitted-level-1: #f6e4d2;\n",
              "  --sklearn-color-unfitted-level-2: #ffe0b3;\n",
              "  --sklearn-color-unfitted-level-3: chocolate;\n",
              "  /* Definition of color scheme for fitted estimators */\n",
              "  --sklearn-color-fitted-level-0: #f0f8ff;\n",
              "  --sklearn-color-fitted-level-1: #d4ebff;\n",
              "  --sklearn-color-fitted-level-2: #b3dbfd;\n",
              "  --sklearn-color-fitted-level-3: cornflowerblue;\n",
              "\n",
              "  /* Specific color for light theme */\n",
              "  --sklearn-color-text-on-default-background: var(--sg-text-color, var(--theme-code-foreground, var(--jp-content-font-color1, black)));\n",
              "  --sklearn-color-background: var(--sg-background-color, var(--theme-background, var(--jp-layout-color0, white)));\n",
              "  --sklearn-color-border-box: var(--sg-text-color, var(--theme-code-foreground, var(--jp-content-font-color1, black)));\n",
              "  --sklearn-color-icon: #696969;\n",
              "\n",
              "  @media (prefers-color-scheme: dark) {\n",
              "    /* Redefinition of color scheme for dark theme */\n",
              "    --sklearn-color-text-on-default-background: var(--sg-text-color, var(--theme-code-foreground, var(--jp-content-font-color1, white)));\n",
              "    --sklearn-color-background: var(--sg-background-color, var(--theme-background, var(--jp-layout-color0, #111)));\n",
              "    --sklearn-color-border-box: var(--sg-text-color, var(--theme-code-foreground, var(--jp-content-font-color1, white)));\n",
              "    --sklearn-color-icon: #878787;\n",
              "  }\n",
              "}\n",
              "\n",
              "#sk-container-id-2 {\n",
              "  color: var(--sklearn-color-text);\n",
              "}\n",
              "\n",
              "#sk-container-id-2 pre {\n",
              "  padding: 0;\n",
              "}\n",
              "\n",
              "#sk-container-id-2 input.sk-hidden--visually {\n",
              "  border: 0;\n",
              "  clip: rect(1px 1px 1px 1px);\n",
              "  clip: rect(1px, 1px, 1px, 1px);\n",
              "  height: 1px;\n",
              "  margin: -1px;\n",
              "  overflow: hidden;\n",
              "  padding: 0;\n",
              "  position: absolute;\n",
              "  width: 1px;\n",
              "}\n",
              "\n",
              "#sk-container-id-2 div.sk-dashed-wrapped {\n",
              "  border: 1px dashed var(--sklearn-color-line);\n",
              "  margin: 0 0.4em 0.5em 0.4em;\n",
              "  box-sizing: border-box;\n",
              "  padding-bottom: 0.4em;\n",
              "  background-color: var(--sklearn-color-background);\n",
              "}\n",
              "\n",
              "#sk-container-id-2 div.sk-container {\n",
              "  /* jupyter's `normalize.less` sets `[hidden] { display: none; }`\n",
              "     but bootstrap.min.css set `[hidden] { display: none !important; }`\n",
              "     so we also need the `!important` here to be able to override the\n",
              "     default hidden behavior on the sphinx rendered scikit-learn.org.\n",
              "     See: https://github.com/scikit-learn/scikit-learn/issues/21755 */\n",
              "  display: inline-block !important;\n",
              "  position: relative;\n",
              "}\n",
              "\n",
              "#sk-container-id-2 div.sk-text-repr-fallback {\n",
              "  display: none;\n",
              "}\n",
              "\n",
              "div.sk-parallel-item,\n",
              "div.sk-serial,\n",
              "div.sk-item {\n",
              "  /* draw centered vertical line to link estimators */\n",
              "  background-image: linear-gradient(var(--sklearn-color-text-on-default-background), var(--sklearn-color-text-on-default-background));\n",
              "  background-size: 2px 100%;\n",
              "  background-repeat: no-repeat;\n",
              "  background-position: center center;\n",
              "}\n",
              "\n",
              "/* Parallel-specific style estimator block */\n",
              "\n",
              "#sk-container-id-2 div.sk-parallel-item::after {\n",
              "  content: \"\";\n",
              "  width: 100%;\n",
              "  border-bottom: 2px solid var(--sklearn-color-text-on-default-background);\n",
              "  flex-grow: 1;\n",
              "}\n",
              "\n",
              "#sk-container-id-2 div.sk-parallel {\n",
              "  display: flex;\n",
              "  align-items: stretch;\n",
              "  justify-content: center;\n",
              "  background-color: var(--sklearn-color-background);\n",
              "  position: relative;\n",
              "}\n",
              "\n",
              "#sk-container-id-2 div.sk-parallel-item {\n",
              "  display: flex;\n",
              "  flex-direction: column;\n",
              "}\n",
              "\n",
              "#sk-container-id-2 div.sk-parallel-item:first-child::after {\n",
              "  align-self: flex-end;\n",
              "  width: 50%;\n",
              "}\n",
              "\n",
              "#sk-container-id-2 div.sk-parallel-item:last-child::after {\n",
              "  align-self: flex-start;\n",
              "  width: 50%;\n",
              "}\n",
              "\n",
              "#sk-container-id-2 div.sk-parallel-item:only-child::after {\n",
              "  width: 0;\n",
              "}\n",
              "\n",
              "/* Serial-specific style estimator block */\n",
              "\n",
              "#sk-container-id-2 div.sk-serial {\n",
              "  display: flex;\n",
              "  flex-direction: column;\n",
              "  align-items: center;\n",
              "  background-color: var(--sklearn-color-background);\n",
              "  padding-right: 1em;\n",
              "  padding-left: 1em;\n",
              "}\n",
              "\n",
              "\n",
              "/* Toggleable style: style used for estimator/Pipeline/ColumnTransformer box that is\n",
              "clickable and can be expanded/collapsed.\n",
              "- Pipeline and ColumnTransformer use this feature and define the default style\n",
              "- Estimators will overwrite some part of the style using the `sk-estimator` class\n",
              "*/\n",
              "\n",
              "/* Pipeline and ColumnTransformer style (default) */\n",
              "\n",
              "#sk-container-id-2 div.sk-toggleable {\n",
              "  /* Default theme specific background. It is overwritten whether we have a\n",
              "  specific estimator or a Pipeline/ColumnTransformer */\n",
              "  background-color: var(--sklearn-color-background);\n",
              "}\n",
              "\n",
              "/* Toggleable label */\n",
              "#sk-container-id-2 label.sk-toggleable__label {\n",
              "  cursor: pointer;\n",
              "  display: block;\n",
              "  width: 100%;\n",
              "  margin-bottom: 0;\n",
              "  padding: 0.5em;\n",
              "  box-sizing: border-box;\n",
              "  text-align: center;\n",
              "}\n",
              "\n",
              "#sk-container-id-2 label.sk-toggleable__label-arrow:before {\n",
              "  /* Arrow on the left of the label */\n",
              "  content: \"▸\";\n",
              "  float: left;\n",
              "  margin-right: 0.25em;\n",
              "  color: var(--sklearn-color-icon);\n",
              "}\n",
              "\n",
              "#sk-container-id-2 label.sk-toggleable__label-arrow:hover:before {\n",
              "  color: var(--sklearn-color-text);\n",
              "}\n",
              "\n",
              "/* Toggleable content - dropdown */\n",
              "\n",
              "#sk-container-id-2 div.sk-toggleable__content {\n",
              "  max-height: 0;\n",
              "  max-width: 0;\n",
              "  overflow: hidden;\n",
              "  text-align: left;\n",
              "  /* unfitted */\n",
              "  background-color: var(--sklearn-color-unfitted-level-0);\n",
              "}\n",
              "\n",
              "#sk-container-id-2 div.sk-toggleable__content.fitted {\n",
              "  /* fitted */\n",
              "  background-color: var(--sklearn-color-fitted-level-0);\n",
              "}\n",
              "\n",
              "#sk-container-id-2 div.sk-toggleable__content pre {\n",
              "  margin: 0.2em;\n",
              "  border-radius: 0.25em;\n",
              "  color: var(--sklearn-color-text);\n",
              "  /* unfitted */\n",
              "  background-color: var(--sklearn-color-unfitted-level-0);\n",
              "}\n",
              "\n",
              "#sk-container-id-2 div.sk-toggleable__content.fitted pre {\n",
              "  /* unfitted */\n",
              "  background-color: var(--sklearn-color-fitted-level-0);\n",
              "}\n",
              "\n",
              "#sk-container-id-2 input.sk-toggleable__control:checked~div.sk-toggleable__content {\n",
              "  /* Expand drop-down */\n",
              "  max-height: 200px;\n",
              "  max-width: 100%;\n",
              "  overflow: auto;\n",
              "}\n",
              "\n",
              "#sk-container-id-2 input.sk-toggleable__control:checked~label.sk-toggleable__label-arrow:before {\n",
              "  content: \"▾\";\n",
              "}\n",
              "\n",
              "/* Pipeline/ColumnTransformer-specific style */\n",
              "\n",
              "#sk-container-id-2 div.sk-label input.sk-toggleable__control:checked~label.sk-toggleable__label {\n",
              "  color: var(--sklearn-color-text);\n",
              "  background-color: var(--sklearn-color-unfitted-level-2);\n",
              "}\n",
              "\n",
              "#sk-container-id-2 div.sk-label.fitted input.sk-toggleable__control:checked~label.sk-toggleable__label {\n",
              "  background-color: var(--sklearn-color-fitted-level-2);\n",
              "}\n",
              "\n",
              "/* Estimator-specific style */\n",
              "\n",
              "/* Colorize estimator box */\n",
              "#sk-container-id-2 div.sk-estimator input.sk-toggleable__control:checked~label.sk-toggleable__label {\n",
              "  /* unfitted */\n",
              "  background-color: var(--sklearn-color-unfitted-level-2);\n",
              "}\n",
              "\n",
              "#sk-container-id-2 div.sk-estimator.fitted input.sk-toggleable__control:checked~label.sk-toggleable__label {\n",
              "  /* fitted */\n",
              "  background-color: var(--sklearn-color-fitted-level-2);\n",
              "}\n",
              "\n",
              "#sk-container-id-2 div.sk-label label.sk-toggleable__label,\n",
              "#sk-container-id-2 div.sk-label label {\n",
              "  /* The background is the default theme color */\n",
              "  color: var(--sklearn-color-text-on-default-background);\n",
              "}\n",
              "\n",
              "/* On hover, darken the color of the background */\n",
              "#sk-container-id-2 div.sk-label:hover label.sk-toggleable__label {\n",
              "  color: var(--sklearn-color-text);\n",
              "  background-color: var(--sklearn-color-unfitted-level-2);\n",
              "}\n",
              "\n",
              "/* Label box, darken color on hover, fitted */\n",
              "#sk-container-id-2 div.sk-label.fitted:hover label.sk-toggleable__label.fitted {\n",
              "  color: var(--sklearn-color-text);\n",
              "  background-color: var(--sklearn-color-fitted-level-2);\n",
              "}\n",
              "\n",
              "/* Estimator label */\n",
              "\n",
              "#sk-container-id-2 div.sk-label label {\n",
              "  font-family: monospace;\n",
              "  font-weight: bold;\n",
              "  display: inline-block;\n",
              "  line-height: 1.2em;\n",
              "}\n",
              "\n",
              "#sk-container-id-2 div.sk-label-container {\n",
              "  text-align: center;\n",
              "}\n",
              "\n",
              "/* Estimator-specific */\n",
              "#sk-container-id-2 div.sk-estimator {\n",
              "  font-family: monospace;\n",
              "  border: 1px dotted var(--sklearn-color-border-box);\n",
              "  border-radius: 0.25em;\n",
              "  box-sizing: border-box;\n",
              "  margin-bottom: 0.5em;\n",
              "  /* unfitted */\n",
              "  background-color: var(--sklearn-color-unfitted-level-0);\n",
              "}\n",
              "\n",
              "#sk-container-id-2 div.sk-estimator.fitted {\n",
              "  /* fitted */\n",
              "  background-color: var(--sklearn-color-fitted-level-0);\n",
              "}\n",
              "\n",
              "/* on hover */\n",
              "#sk-container-id-2 div.sk-estimator:hover {\n",
              "  /* unfitted */\n",
              "  background-color: var(--sklearn-color-unfitted-level-2);\n",
              "}\n",
              "\n",
              "#sk-container-id-2 div.sk-estimator.fitted:hover {\n",
              "  /* fitted */\n",
              "  background-color: var(--sklearn-color-fitted-level-2);\n",
              "}\n",
              "\n",
              "/* Specification for estimator info (e.g. \"i\" and \"?\") */\n",
              "\n",
              "/* Common style for \"i\" and \"?\" */\n",
              "\n",
              ".sk-estimator-doc-link,\n",
              "a:link.sk-estimator-doc-link,\n",
              "a:visited.sk-estimator-doc-link {\n",
              "  float: right;\n",
              "  font-size: smaller;\n",
              "  line-height: 1em;\n",
              "  font-family: monospace;\n",
              "  background-color: var(--sklearn-color-background);\n",
              "  border-radius: 1em;\n",
              "  height: 1em;\n",
              "  width: 1em;\n",
              "  text-decoration: none !important;\n",
              "  margin-left: 1ex;\n",
              "  /* unfitted */\n",
              "  border: var(--sklearn-color-unfitted-level-1) 1pt solid;\n",
              "  color: var(--sklearn-color-unfitted-level-1);\n",
              "}\n",
              "\n",
              ".sk-estimator-doc-link.fitted,\n",
              "a:link.sk-estimator-doc-link.fitted,\n",
              "a:visited.sk-estimator-doc-link.fitted {\n",
              "  /* fitted */\n",
              "  border: var(--sklearn-color-fitted-level-1) 1pt solid;\n",
              "  color: var(--sklearn-color-fitted-level-1);\n",
              "}\n",
              "\n",
              "/* On hover */\n",
              "div.sk-estimator:hover .sk-estimator-doc-link:hover,\n",
              ".sk-estimator-doc-link:hover,\n",
              "div.sk-label-container:hover .sk-estimator-doc-link:hover,\n",
              ".sk-estimator-doc-link:hover {\n",
              "  /* unfitted */\n",
              "  background-color: var(--sklearn-color-unfitted-level-3);\n",
              "  color: var(--sklearn-color-background);\n",
              "  text-decoration: none;\n",
              "}\n",
              "\n",
              "div.sk-estimator.fitted:hover .sk-estimator-doc-link.fitted:hover,\n",
              ".sk-estimator-doc-link.fitted:hover,\n",
              "div.sk-label-container:hover .sk-estimator-doc-link.fitted:hover,\n",
              ".sk-estimator-doc-link.fitted:hover {\n",
              "  /* fitted */\n",
              "  background-color: var(--sklearn-color-fitted-level-3);\n",
              "  color: var(--sklearn-color-background);\n",
              "  text-decoration: none;\n",
              "}\n",
              "\n",
              "/* Span, style for the box shown on hovering the info icon */\n",
              ".sk-estimator-doc-link span {\n",
              "  display: none;\n",
              "  z-index: 9999;\n",
              "  position: relative;\n",
              "  font-weight: normal;\n",
              "  right: .2ex;\n",
              "  padding: .5ex;\n",
              "  margin: .5ex;\n",
              "  width: min-content;\n",
              "  min-width: 20ex;\n",
              "  max-width: 50ex;\n",
              "  color: var(--sklearn-color-text);\n",
              "  box-shadow: 2pt 2pt 4pt #999;\n",
              "  /* unfitted */\n",
              "  background: var(--sklearn-color-unfitted-level-0);\n",
              "  border: .5pt solid var(--sklearn-color-unfitted-level-3);\n",
              "}\n",
              "\n",
              ".sk-estimator-doc-link.fitted span {\n",
              "  /* fitted */\n",
              "  background: var(--sklearn-color-fitted-level-0);\n",
              "  border: var(--sklearn-color-fitted-level-3);\n",
              "}\n",
              "\n",
              ".sk-estimator-doc-link:hover span {\n",
              "  display: block;\n",
              "}\n",
              "\n",
              "/* \"?\"-specific style due to the `<a>` HTML tag */\n",
              "\n",
              "#sk-container-id-2 a.estimator_doc_link {\n",
              "  float: right;\n",
              "  font-size: 1rem;\n",
              "  line-height: 1em;\n",
              "  font-family: monospace;\n",
              "  background-color: var(--sklearn-color-background);\n",
              "  border-radius: 1rem;\n",
              "  height: 1rem;\n",
              "  width: 1rem;\n",
              "  text-decoration: none;\n",
              "  /* unfitted */\n",
              "  color: var(--sklearn-color-unfitted-level-1);\n",
              "  border: var(--sklearn-color-unfitted-level-1) 1pt solid;\n",
              "}\n",
              "\n",
              "#sk-container-id-2 a.estimator_doc_link.fitted {\n",
              "  /* fitted */\n",
              "  border: var(--sklearn-color-fitted-level-1) 1pt solid;\n",
              "  color: var(--sklearn-color-fitted-level-1);\n",
              "}\n",
              "\n",
              "/* On hover */\n",
              "#sk-container-id-2 a.estimator_doc_link:hover {\n",
              "  /* unfitted */\n",
              "  background-color: var(--sklearn-color-unfitted-level-3);\n",
              "  color: var(--sklearn-color-background);\n",
              "  text-decoration: none;\n",
              "}\n",
              "\n",
              "#sk-container-id-2 a.estimator_doc_link.fitted:hover {\n",
              "  /* fitted */\n",
              "  background-color: var(--sklearn-color-fitted-level-3);\n",
              "}\n",
              "</style><div id=\"sk-container-id-2\" class=\"sk-top-container\"><div class=\"sk-text-repr-fallback\"><pre>VotingClassifier(estimators=[(&#x27;xgb&#x27;,\n",
              "                              XGBClassifier(base_score=None, booster=&#x27;gbtree&#x27;,\n",
              "                                            callbacks=None,\n",
              "                                            colsample_bylevel=0.5695267422612745,\n",
              "                                            colsample_bynode=0.8390631221126779,\n",
              "                                            colsample_bytree=0.5534666374509267,\n",
              "                                            device=None,\n",
              "                                            early_stopping_rounds=None,\n",
              "                                            enable_categorical=True,\n",
              "                                            eval_metric=None,\n",
              "                                            feature_types=None,\n",
              "                                            gamma=0.9069384135972282,\n",
              "                                            grow_policy=None,\n",
              "                                            im...\n",
              "                              HistGradientBoostingClassifier(l2_regularization=0.4495943539321024,\n",
              "                                                             max_bins=250,\n",
              "                                                             max_depth=4,\n",
              "                                                             max_iter=1522,\n",
              "                                                             max_leaf_nodes=92,\n",
              "                                                             min_samples_leaf=44,\n",
              "                                                             random_state=27)),\n",
              "                             (&#x27;gb&#x27;,\n",
              "                              GradientBoostingClassifier(learning_rate=0.05,\n",
              "                                                         max_depth=4,\n",
              "                                                         n_estimators=600,\n",
              "                                                         random_state=27,\n",
              "                                                         subsample=0.9)),\n",
              "                             (&#x27;rf&#x27;,\n",
              "                              RandomForestClassifier(n_estimators=1200,\n",
              "                                                     random_state=27))],\n",
              "                 voting=&#x27;soft&#x27;)</pre><b>In a Jupyter environment, please rerun this cell to show the HTML representation or trust the notebook. <br />On GitHub, the HTML representation is unable to render, please try loading this page with nbviewer.org.</b></div><div class=\"sk-container\" hidden><div class=\"sk-item sk-dashed-wrapped\"><div class=\"sk-label-container\"><div class=\"sk-label fitted sk-toggleable\"><input class=\"sk-toggleable__control sk-hidden--visually\" id=\"sk-estimator-id-7\" type=\"checkbox\" ><label for=\"sk-estimator-id-7\" class=\"sk-toggleable__label fitted sk-toggleable__label-arrow fitted\">&nbsp;&nbsp;VotingClassifier<a class=\"sk-estimator-doc-link fitted\" rel=\"noreferrer\" target=\"_blank\" href=\"https://scikit-learn.org/1.4/modules/generated/sklearn.ensemble.VotingClassifier.html\">?<span>Documentation for VotingClassifier</span></a><span class=\"sk-estimator-doc-link fitted\">i<span>Fitted</span></span></label><div class=\"sk-toggleable__content fitted\"><pre>VotingClassifier(estimators=[(&#x27;xgb&#x27;,\n",
              "                              XGBClassifier(base_score=None, booster=&#x27;gbtree&#x27;,\n",
              "                                            callbacks=None,\n",
              "                                            colsample_bylevel=0.5695267422612745,\n",
              "                                            colsample_bynode=0.8390631221126779,\n",
              "                                            colsample_bytree=0.5534666374509267,\n",
              "                                            device=None,\n",
              "                                            early_stopping_rounds=None,\n",
              "                                            enable_categorical=True,\n",
              "                                            eval_metric=None,\n",
              "                                            feature_types=None,\n",
              "                                            gamma=0.9069384135972282,\n",
              "                                            grow_policy=None,\n",
              "                                            im...\n",
              "                              HistGradientBoostingClassifier(l2_regularization=0.4495943539321024,\n",
              "                                                             max_bins=250,\n",
              "                                                             max_depth=4,\n",
              "                                                             max_iter=1522,\n",
              "                                                             max_leaf_nodes=92,\n",
              "                                                             min_samples_leaf=44,\n",
              "                                                             random_state=27)),\n",
              "                             (&#x27;gb&#x27;,\n",
              "                              GradientBoostingClassifier(learning_rate=0.05,\n",
              "                                                         max_depth=4,\n",
              "                                                         n_estimators=600,\n",
              "                                                         random_state=27,\n",
              "                                                         subsample=0.9)),\n",
              "                             (&#x27;rf&#x27;,\n",
              "                              RandomForestClassifier(n_estimators=1200,\n",
              "                                                     random_state=27))],\n",
              "                 voting=&#x27;soft&#x27;)</pre></div> </div></div><div class=\"sk-parallel\"><div class=\"sk-parallel-item\"><div class=\"sk-item\"><div class=\"sk-label-container\"><div class=\"sk-label fitted sk-toggleable\"><label>xgb</label></div></div><div class=\"sk-serial\"><div class=\"sk-item\"><div class=\"sk-estimator fitted sk-toggleable\"><input class=\"sk-toggleable__control sk-hidden--visually\" id=\"sk-estimator-id-8\" type=\"checkbox\" ><label for=\"sk-estimator-id-8\" class=\"sk-toggleable__label fitted sk-toggleable__label-arrow fitted\">XGBClassifier</label><div class=\"sk-toggleable__content fitted\"><pre>XGBClassifier(base_score=None, booster=&#x27;gbtree&#x27;, callbacks=None,\n",
              "              colsample_bylevel=0.5695267422612745,\n",
              "              colsample_bynode=0.8390631221126779,\n",
              "              colsample_bytree=0.5534666374509267, device=None,\n",
              "              early_stopping_rounds=None, enable_categorical=True,\n",
              "              eval_metric=None, feature_types=None, gamma=0.9069384135972282,\n",
              "              grow_policy=None, importance_type=None,\n",
              "              interaction_constraints=None, learning_rate=None, max_bin=86,\n",
              "              max_cat_threshold=None, max_cat_to_onehot=None,\n",
              "              max_delta_step=1.1802158903460869, max_depth=5, max_leaves=64,\n",
              "              min_child_weight=8.745168792677534, missing=nan,\n",
              "              monotone_constraints=None, multi_strategy=None, n_estimators=1539,\n",
              "              n_jobs=-1, num_parallel_tree=None, random_state=27, ...)</pre></div> </div></div></div></div></div><div class=\"sk-parallel-item\"><div class=\"sk-item\"><div class=\"sk-label-container\"><div class=\"sk-label fitted sk-toggleable\"><label>lgb</label></div></div><div class=\"sk-serial\"><div class=\"sk-item\"><div class=\"sk-estimator fitted sk-toggleable\"><input class=\"sk-toggleable__control sk-hidden--visually\" id=\"sk-estimator-id-9\" type=\"checkbox\" ><label for=\"sk-estimator-id-9\" class=\"sk-toggleable__label fitted sk-toggleable__label-arrow fitted\">LGBMClassifier</label><div class=\"sk-toggleable__content fitted\"><pre>LGBMClassifier(colsample_bytree=0.35379935570036725, device=&#x27;gpu&#x27;, max_depth=77,\n",
              "               min_child_samples=199, min_child_weight=0.4410010971781976,\n",
              "               n_estimators=169, n_jobs=-1, num_leaves=42, random_state=27,\n",
              "               reg_alpha=0.9200214666236493, reg_lambda=0.2652568189927319,\n",
              "               subsample=0.9178993412905838, subsample_freq=8, verbose=-1)</pre></div> </div></div></div></div></div><div class=\"sk-parallel-item\"><div class=\"sk-item\"><div class=\"sk-label-container\"><div class=\"sk-label fitted sk-toggleable\"><label>hgb</label></div></div><div class=\"sk-serial\"><div class=\"sk-item\"><div class=\"sk-estimator fitted sk-toggleable\"><input class=\"sk-toggleable__control sk-hidden--visually\" id=\"sk-estimator-id-10\" type=\"checkbox\" ><label for=\"sk-estimator-id-10\" class=\"sk-toggleable__label fitted sk-toggleable__label-arrow fitted\">&nbsp;HistGradientBoostingClassifier<a class=\"sk-estimator-doc-link fitted\" rel=\"noreferrer\" target=\"_blank\" href=\"https://scikit-learn.org/1.4/modules/generated/sklearn.ensemble.HistGradientBoostingClassifier.html\">?<span>Documentation for HistGradientBoostingClassifier</span></a></label><div class=\"sk-toggleable__content fitted\"><pre>HistGradientBoostingClassifier(l2_regularization=0.4495943539321024,\n",
              "                               max_bins=250, max_depth=4, max_iter=1522,\n",
              "                               max_leaf_nodes=92, min_samples_leaf=44,\n",
              "                               random_state=27)</pre></div> </div></div></div></div></div><div class=\"sk-parallel-item\"><div class=\"sk-item\"><div class=\"sk-label-container\"><div class=\"sk-label fitted sk-toggleable\"><label>gb</label></div></div><div class=\"sk-serial\"><div class=\"sk-item\"><div class=\"sk-estimator fitted sk-toggleable\"><input class=\"sk-toggleable__control sk-hidden--visually\" id=\"sk-estimator-id-11\" type=\"checkbox\" ><label for=\"sk-estimator-id-11\" class=\"sk-toggleable__label fitted sk-toggleable__label-arrow fitted\">&nbsp;GradientBoostingClassifier<a class=\"sk-estimator-doc-link fitted\" rel=\"noreferrer\" target=\"_blank\" href=\"https://scikit-learn.org/1.4/modules/generated/sklearn.ensemble.GradientBoostingClassifier.html\">?<span>Documentation for GradientBoostingClassifier</span></a></label><div class=\"sk-toggleable__content fitted\"><pre>GradientBoostingClassifier(learning_rate=0.05, max_depth=4, n_estimators=600,\n",
              "                           random_state=27, subsample=0.9)</pre></div> </div></div></div></div></div><div class=\"sk-parallel-item\"><div class=\"sk-item\"><div class=\"sk-label-container\"><div class=\"sk-label fitted sk-toggleable\"><label>rf</label></div></div><div class=\"sk-serial\"><div class=\"sk-item\"><div class=\"sk-estimator fitted sk-toggleable\"><input class=\"sk-toggleable__control sk-hidden--visually\" id=\"sk-estimator-id-12\" type=\"checkbox\" ><label for=\"sk-estimator-id-12\" class=\"sk-toggleable__label fitted sk-toggleable__label-arrow fitted\">&nbsp;RandomForestClassifier<a class=\"sk-estimator-doc-link fitted\" rel=\"noreferrer\" target=\"_blank\" href=\"https://scikit-learn.org/1.4/modules/generated/sklearn.ensemble.RandomForestClassifier.html\">?<span>Documentation for RandomForestClassifier</span></a></label><div class=\"sk-toggleable__content fitted\"><pre>RandomForestClassifier(n_estimators=1200, random_state=27)</pre></div> </div></div></div></div></div></div></div></div></div>"
            ],
            "text/plain": [
              "VotingClassifier(estimators=[('xgb',\n",
              "                              XGBClassifier(base_score=None, booster='gbtree',\n",
              "                                            callbacks=None,\n",
              "                                            colsample_bylevel=0.5695267422612745,\n",
              "                                            colsample_bynode=0.8390631221126779,\n",
              "                                            colsample_bytree=0.5534666374509267,\n",
              "                                            device=None,\n",
              "                                            early_stopping_rounds=None,\n",
              "                                            enable_categorical=True,\n",
              "                                            eval_metric=None,\n",
              "                                            feature_types=None,\n",
              "                                            gamma=0.9069384135972282,\n",
              "                                            grow_policy=None,\n",
              "                                            im...\n",
              "                              HistGradientBoostingClassifier(l2_regularization=0.4495943539321024,\n",
              "                                                             max_bins=250,\n",
              "                                                             max_depth=4,\n",
              "                                                             max_iter=1522,\n",
              "                                                             max_leaf_nodes=92,\n",
              "                                                             min_samples_leaf=44,\n",
              "                                                             random_state=27)),\n",
              "                             ('gb',\n",
              "                              GradientBoostingClassifier(learning_rate=0.05,\n",
              "                                                         max_depth=4,\n",
              "                                                         n_estimators=600,\n",
              "                                                         random_state=27,\n",
              "                                                         subsample=0.9)),\n",
              "                             ('rf',\n",
              "                              RandomForestClassifier(n_estimators=1200,\n",
              "                                                     random_state=27))],\n",
              "                 voting='soft')"
            ]
          },
          "execution_count": 103,
          "metadata": {},
          "output_type": "execute_result"
        }
      ],
      "source": [
        "from sklearn.ensemble import VotingClassifier, HistGradientBoostingClassifier, GradientBoostingClassifier, RandomForestClassifier\n",
        "from xgboost import XGBClassifier\n",
        "from catboost import CatBoostClassifier\n",
        "from lightgbm import LGBMClassifier\n",
        "# Initialize individual models with GPU for XGBoost, LightGBM, and CatBoost\n",
        "xgboost = XGBClassifier(**xgb_params)\n",
        "lightgbm = LGBMClassifier(**lgbm_params)\n",
        "# catboost = CatBoostClassifier(**cb_params)\n",
        "hist_gradient_boosting = HistGradientBoostingClassifier(**hgb_params)\n",
        "gradient_boosting = GradientBoostingClassifier(**gb_params)\n",
        "random_forest = RandomForestClassifier(**rf_params)\n",
        "\n",
        "# Create a VotingClassifier with the models\n",
        "voting_clf = VotingClassifier(\n",
        "    estimators=[\n",
        "        ('xgb', xgboost),\n",
        "        # ('cat', catboost),\n",
        "        ('lgb', lightgbm),\n",
        "        ('hgb', hist_gradient_boosting),\n",
        "        ('gb', gradient_boosting),\n",
        "        ('rf', random_forest)\n",
        "    ],\n",
        "    voting='soft'\n",
        ")\n",
        "\n",
        "# Train the VotingClassifier\n",
        "voting_clf.fit(one_hot_encoded, y_resampled)\n",
        "\n",
        "# Predict and evaluate\n",
        "# y_pred = voting_clf.predict(X_val)\n",
        "# accuracy = accuracy_score(y_val, y_pred)\n",
        "# print(f\"Voting Classifier Accuracy: {accuracy:.4f}\")\n",
        "# print(classification_report(y_val, y_pred))"
      ]
    },
    {
      "cell_type": "code",
      "execution_count": 121,
      "metadata": {},
      "outputs": [],
      "source": [
        "from joblib import Parallel, delayed \n",
        "import joblib \n",
        "\n",
        "\n",
        "# Save the model as a pickle in a file \n",
        "joblib.dump(voting_clf, 'filename.pkl') \n",
        "\n",
        "# Load the model from the file \n",
        "voting_from_joblib = joblib.load('filename.pkl') \n",
        "\n",
        "# Use the loaded model to make predictions \n",
        "# voting_from_joblib.predict(X_test) \n"
      ]
    },
    {
      "cell_type": "code",
      "execution_count": 118,
      "metadata": {},
      "outputs": [],
      "source": [
        "test = pd.read_csv('D:/Local Disk C/Python project/src/Tugas/EAS PSD/test.csv')\n",
        "scaler = StandardScaler()\n",
        "scaler.fit(test)\n",
        "test = pd.DataFrame(scaler.transform(test), columns=test.columns)\n",
        "one_hot = OneHotEncoder()\n",
        "one_hot.fit(test[onehot_features])\n",
        "one_hot_encoded_test = one_hot.transform(test[onehot_features]).toarray()"
      ]
    },
    {
      "cell_type": "code",
      "execution_count": null,
      "metadata": {},
      "outputs": [],
      "source": [
        "# one_hot_df = pd.DataFrame(one_hot_encoded, columns=one_hot.get_feature_names(onehot_features))"
      ]
    },
    {
      "cell_type": "code",
      "execution_count": 119,
      "metadata": {
        "execution": {
          "iopub.execute_input": "2024-06-21T15:36:46.847458Z",
          "iopub.status.busy": "2024-06-21T15:36:46.847078Z",
          "iopub.status.idle": "2024-06-21T15:37:07.558881Z",
          "shell.execute_reply": "2024-06-21T15:37:07.557937Z",
          "shell.execute_reply.started": "2024-06-21T15:36:46.847428Z"
        },
        "id": "_cygLryLFfeQ",
        "trusted": true
      },
      "outputs": [
        {
          "ename": "ValueError",
          "evalue": "Feature shape mismatch, expected: 967, got 79",
          "output_type": "error",
          "traceback": [
            "\u001b[1;31m---------------------------------------------------------------------------\u001b[0m",
            "\u001b[1;31mValueError\u001b[0m                                Traceback (most recent call last)",
            "Cell \u001b[1;32mIn[119], line 8\u001b[0m\n\u001b[0;32m      1\u001b[0m \u001b[38;5;28;01mimport\u001b[39;00m \u001b[38;5;21;01mpandas\u001b[39;00m \u001b[38;5;28;01mas\u001b[39;00m \u001b[38;5;21;01mpd\u001b[39;00m\n\u001b[0;32m      3\u001b[0m \u001b[38;5;66;03m# Ensure the test data has the same preprocessing as the training data\u001b[39;00m\n\u001b[0;32m      4\u001b[0m \u001b[38;5;66;03m# for col in cat_features:\u001b[39;00m\n\u001b[0;32m      5\u001b[0m \u001b[38;5;66;03m#     test[col] = test[col].astype('category')\u001b[39;00m\n\u001b[0;32m      6\u001b[0m \n\u001b[0;32m      7\u001b[0m \u001b[38;5;66;03m# Make predictions on the test data\u001b[39;00m\n\u001b[1;32m----> 8\u001b[0m test_predictions \u001b[38;5;241m=\u001b[39m \u001b[43mvoting_clf\u001b[49m\u001b[38;5;241;43m.\u001b[39;49m\u001b[43mpredict\u001b[49m\u001b[43m(\u001b[49m\u001b[43mone_hot_encoded_test\u001b[49m\u001b[43m)\u001b[49m\n\u001b[0;32m     10\u001b[0m \u001b[38;5;66;03m# Load the sample submission file to ensure the correct format\u001b[39;00m\n\u001b[0;32m     11\u001b[0m sample_submission \u001b[38;5;241m=\u001b[39m pd\u001b[38;5;241m.\u001b[39mread_csv(\u001b[38;5;124m'\u001b[39m\u001b[38;5;124mD:/Local Disk C/Python project/src/Tugas/EAS PSD/sample_submission.csv\u001b[39m\u001b[38;5;124m'\u001b[39m)\n",
            "File \u001b[1;32m~\\AppData\\Local\\Packages\\PythonSoftwareFoundation.Python.3.11_qbz5n2kfra8p0\\LocalCache\\local-packages\\Python311\\site-packages\\sklearn\\ensemble\\_voting.py:383\u001b[0m, in \u001b[0;36mVotingClassifier.predict\u001b[1;34m(self, X)\u001b[0m\n\u001b[0;32m    381\u001b[0m check_is_fitted(\u001b[38;5;28mself\u001b[39m)\n\u001b[0;32m    382\u001b[0m \u001b[38;5;28;01mif\u001b[39;00m \u001b[38;5;28mself\u001b[39m\u001b[38;5;241m.\u001b[39mvoting \u001b[38;5;241m==\u001b[39m \u001b[38;5;124m\"\u001b[39m\u001b[38;5;124msoft\u001b[39m\u001b[38;5;124m\"\u001b[39m:\n\u001b[1;32m--> 383\u001b[0m     maj \u001b[38;5;241m=\u001b[39m np\u001b[38;5;241m.\u001b[39margmax(\u001b[38;5;28;43mself\u001b[39;49m\u001b[38;5;241;43m.\u001b[39;49m\u001b[43mpredict_proba\u001b[49m\u001b[43m(\u001b[49m\u001b[43mX\u001b[49m\u001b[43m)\u001b[49m, axis\u001b[38;5;241m=\u001b[39m\u001b[38;5;241m1\u001b[39m)\n\u001b[0;32m    385\u001b[0m \u001b[38;5;28;01melse\u001b[39;00m:  \u001b[38;5;66;03m# 'hard' voting\u001b[39;00m\n\u001b[0;32m    386\u001b[0m     predictions \u001b[38;5;241m=\u001b[39m \u001b[38;5;28mself\u001b[39m\u001b[38;5;241m.\u001b[39m_predict(X)\n",
            "File \u001b[1;32m~\\AppData\\Local\\Packages\\PythonSoftwareFoundation.Python.3.11_qbz5n2kfra8p0\\LocalCache\\local-packages\\Python311\\site-packages\\sklearn\\ensemble\\_voting.py:424\u001b[0m, in \u001b[0;36mVotingClassifier.predict_proba\u001b[1;34m(self, X)\u001b[0m\n\u001b[0;32m    410\u001b[0m \u001b[38;5;250m\u001b[39m\u001b[38;5;124;03m\"\"\"Compute probabilities of possible outcomes for samples in X.\u001b[39;00m\n\u001b[0;32m    411\u001b[0m \n\u001b[0;32m    412\u001b[0m \u001b[38;5;124;03mParameters\u001b[39;00m\n\u001b[1;32m   (...)\u001b[0m\n\u001b[0;32m    420\u001b[0m \u001b[38;5;124;03m    Weighted average probability for each class per sample.\u001b[39;00m\n\u001b[0;32m    421\u001b[0m \u001b[38;5;124;03m\"\"\"\u001b[39;00m\n\u001b[0;32m    422\u001b[0m check_is_fitted(\u001b[38;5;28mself\u001b[39m)\n\u001b[0;32m    423\u001b[0m avg \u001b[38;5;241m=\u001b[39m np\u001b[38;5;241m.\u001b[39maverage(\n\u001b[1;32m--> 424\u001b[0m     \u001b[38;5;28;43mself\u001b[39;49m\u001b[38;5;241;43m.\u001b[39;49m\u001b[43m_collect_probas\u001b[49m\u001b[43m(\u001b[49m\u001b[43mX\u001b[49m\u001b[43m)\u001b[49m, axis\u001b[38;5;241m=\u001b[39m\u001b[38;5;241m0\u001b[39m, weights\u001b[38;5;241m=\u001b[39m\u001b[38;5;28mself\u001b[39m\u001b[38;5;241m.\u001b[39m_weights_not_none\n\u001b[0;32m    425\u001b[0m )\n\u001b[0;32m    426\u001b[0m \u001b[38;5;28;01mreturn\u001b[39;00m avg\n",
            "File \u001b[1;32m~\\AppData\\Local\\Packages\\PythonSoftwareFoundation.Python.3.11_qbz5n2kfra8p0\\LocalCache\\local-packages\\Python311\\site-packages\\sklearn\\ensemble\\_voting.py:399\u001b[0m, in \u001b[0;36mVotingClassifier._collect_probas\u001b[1;34m(self, X)\u001b[0m\n\u001b[0;32m    397\u001b[0m \u001b[38;5;28;01mdef\u001b[39;00m \u001b[38;5;21m_collect_probas\u001b[39m(\u001b[38;5;28mself\u001b[39m, X):\n\u001b[0;32m    398\u001b[0m \u001b[38;5;250m    \u001b[39m\u001b[38;5;124;03m\"\"\"Collect results from clf.predict calls.\"\"\"\u001b[39;00m\n\u001b[1;32m--> 399\u001b[0m     \u001b[38;5;28;01mreturn\u001b[39;00m np\u001b[38;5;241m.\u001b[39masarray(\u001b[43m[\u001b[49m\u001b[43mclf\u001b[49m\u001b[38;5;241;43m.\u001b[39;49m\u001b[43mpredict_proba\u001b[49m\u001b[43m(\u001b[49m\u001b[43mX\u001b[49m\u001b[43m)\u001b[49m\u001b[43m \u001b[49m\u001b[38;5;28;43;01mfor\u001b[39;49;00m\u001b[43m \u001b[49m\u001b[43mclf\u001b[49m\u001b[43m \u001b[49m\u001b[38;5;129;43;01min\u001b[39;49;00m\u001b[43m \u001b[49m\u001b[38;5;28;43mself\u001b[39;49m\u001b[38;5;241;43m.\u001b[39;49m\u001b[43mestimators_\u001b[49m\u001b[43m]\u001b[49m)\n",
            "File \u001b[1;32m~\\AppData\\Local\\Packages\\PythonSoftwareFoundation.Python.3.11_qbz5n2kfra8p0\\LocalCache\\local-packages\\Python311\\site-packages\\sklearn\\ensemble\\_voting.py:399\u001b[0m, in \u001b[0;36m<listcomp>\u001b[1;34m(.0)\u001b[0m\n\u001b[0;32m    397\u001b[0m \u001b[38;5;28;01mdef\u001b[39;00m \u001b[38;5;21m_collect_probas\u001b[39m(\u001b[38;5;28mself\u001b[39m, X):\n\u001b[0;32m    398\u001b[0m \u001b[38;5;250m    \u001b[39m\u001b[38;5;124;03m\"\"\"Collect results from clf.predict calls.\"\"\"\u001b[39;00m\n\u001b[1;32m--> 399\u001b[0m     \u001b[38;5;28;01mreturn\u001b[39;00m np\u001b[38;5;241m.\u001b[39masarray([\u001b[43mclf\u001b[49m\u001b[38;5;241;43m.\u001b[39;49m\u001b[43mpredict_proba\u001b[49m\u001b[43m(\u001b[49m\u001b[43mX\u001b[49m\u001b[43m)\u001b[49m \u001b[38;5;28;01mfor\u001b[39;00m clf \u001b[38;5;129;01min\u001b[39;00m \u001b[38;5;28mself\u001b[39m\u001b[38;5;241m.\u001b[39mestimators_])\n",
            "File \u001b[1;32m~\\AppData\\Local\\Packages\\PythonSoftwareFoundation.Python.3.11_qbz5n2kfra8p0\\LocalCache\\local-packages\\Python311\\site-packages\\xgboost\\sklearn.py:1632\u001b[0m, in \u001b[0;36mXGBClassifier.predict_proba\u001b[1;34m(self, X, validate_features, base_margin, iteration_range)\u001b[0m\n\u001b[0;32m   1630\u001b[0m     class_prob \u001b[38;5;241m=\u001b[39m softmax(raw_predt, axis\u001b[38;5;241m=\u001b[39m\u001b[38;5;241m1\u001b[39m)\n\u001b[0;32m   1631\u001b[0m     \u001b[38;5;28;01mreturn\u001b[39;00m class_prob\n\u001b[1;32m-> 1632\u001b[0m class_probs \u001b[38;5;241m=\u001b[39m \u001b[38;5;28;43msuper\u001b[39;49m\u001b[43m(\u001b[49m\u001b[43m)\u001b[49m\u001b[38;5;241;43m.\u001b[39;49m\u001b[43mpredict\u001b[49m\u001b[43m(\u001b[49m\n\u001b[0;32m   1633\u001b[0m \u001b[43m    \u001b[49m\u001b[43mX\u001b[49m\u001b[38;5;241;43m=\u001b[39;49m\u001b[43mX\u001b[49m\u001b[43m,\u001b[49m\n\u001b[0;32m   1634\u001b[0m \u001b[43m    \u001b[49m\u001b[43mvalidate_features\u001b[49m\u001b[38;5;241;43m=\u001b[39;49m\u001b[43mvalidate_features\u001b[49m\u001b[43m,\u001b[49m\n\u001b[0;32m   1635\u001b[0m \u001b[43m    \u001b[49m\u001b[43mbase_margin\u001b[49m\u001b[38;5;241;43m=\u001b[39;49m\u001b[43mbase_margin\u001b[49m\u001b[43m,\u001b[49m\n\u001b[0;32m   1636\u001b[0m \u001b[43m    \u001b[49m\u001b[43miteration_range\u001b[49m\u001b[38;5;241;43m=\u001b[39;49m\u001b[43miteration_range\u001b[49m\u001b[43m,\u001b[49m\n\u001b[0;32m   1637\u001b[0m \u001b[43m\u001b[49m\u001b[43m)\u001b[49m\n\u001b[0;32m   1638\u001b[0m \u001b[38;5;28;01mreturn\u001b[39;00m _cls_predict_proba(\u001b[38;5;28mself\u001b[39m\u001b[38;5;241m.\u001b[39mn_classes_, class_probs, np\u001b[38;5;241m.\u001b[39mvstack)\n",
            "File \u001b[1;32m~\\AppData\\Local\\Packages\\PythonSoftwareFoundation.Python.3.11_qbz5n2kfra8p0\\LocalCache\\local-packages\\Python311\\site-packages\\xgboost\\sklearn.py:1168\u001b[0m, in \u001b[0;36mXGBModel.predict\u001b[1;34m(self, X, output_margin, validate_features, base_margin, iteration_range)\u001b[0m\n\u001b[0;32m   1166\u001b[0m \u001b[38;5;28;01mif\u001b[39;00m \u001b[38;5;28mself\u001b[39m\u001b[38;5;241m.\u001b[39m_can_use_inplace_predict():\n\u001b[0;32m   1167\u001b[0m     \u001b[38;5;28;01mtry\u001b[39;00m:\n\u001b[1;32m-> 1168\u001b[0m         predts \u001b[38;5;241m=\u001b[39m \u001b[38;5;28;43mself\u001b[39;49m\u001b[38;5;241;43m.\u001b[39;49m\u001b[43mget_booster\u001b[49m\u001b[43m(\u001b[49m\u001b[43m)\u001b[49m\u001b[38;5;241;43m.\u001b[39;49m\u001b[43minplace_predict\u001b[49m\u001b[43m(\u001b[49m\n\u001b[0;32m   1169\u001b[0m \u001b[43m            \u001b[49m\u001b[43mdata\u001b[49m\u001b[38;5;241;43m=\u001b[39;49m\u001b[43mX\u001b[49m\u001b[43m,\u001b[49m\n\u001b[0;32m   1170\u001b[0m \u001b[43m            \u001b[49m\u001b[43miteration_range\u001b[49m\u001b[38;5;241;43m=\u001b[39;49m\u001b[43miteration_range\u001b[49m\u001b[43m,\u001b[49m\n\u001b[0;32m   1171\u001b[0m \u001b[43m            \u001b[49m\u001b[43mpredict_type\u001b[49m\u001b[38;5;241;43m=\u001b[39;49m\u001b[38;5;124;43m\"\u001b[39;49m\u001b[38;5;124;43mmargin\u001b[39;49m\u001b[38;5;124;43m\"\u001b[39;49m\u001b[43m \u001b[49m\u001b[38;5;28;43;01mif\u001b[39;49;00m\u001b[43m \u001b[49m\u001b[43moutput_margin\u001b[49m\u001b[43m \u001b[49m\u001b[38;5;28;43;01melse\u001b[39;49;00m\u001b[43m \u001b[49m\u001b[38;5;124;43m\"\u001b[39;49m\u001b[38;5;124;43mvalue\u001b[39;49m\u001b[38;5;124;43m\"\u001b[39;49m\u001b[43m,\u001b[49m\n\u001b[0;32m   1172\u001b[0m \u001b[43m            \u001b[49m\u001b[43mmissing\u001b[49m\u001b[38;5;241;43m=\u001b[39;49m\u001b[38;5;28;43mself\u001b[39;49m\u001b[38;5;241;43m.\u001b[39;49m\u001b[43mmissing\u001b[49m\u001b[43m,\u001b[49m\n\u001b[0;32m   1173\u001b[0m \u001b[43m            \u001b[49m\u001b[43mbase_margin\u001b[49m\u001b[38;5;241;43m=\u001b[39;49m\u001b[43mbase_margin\u001b[49m\u001b[43m,\u001b[49m\n\u001b[0;32m   1174\u001b[0m \u001b[43m            \u001b[49m\u001b[43mvalidate_features\u001b[49m\u001b[38;5;241;43m=\u001b[39;49m\u001b[43mvalidate_features\u001b[49m\u001b[43m,\u001b[49m\n\u001b[0;32m   1175\u001b[0m \u001b[43m        \u001b[49m\u001b[43m)\u001b[49m\n\u001b[0;32m   1176\u001b[0m         \u001b[38;5;28;01mif\u001b[39;00m _is_cupy_array(predts):\n\u001b[0;32m   1177\u001b[0m             \u001b[38;5;28;01mimport\u001b[39;00m \u001b[38;5;21;01mcupy\u001b[39;00m  \u001b[38;5;66;03m# pylint: disable=import-error\u001b[39;00m\n",
            "File \u001b[1;32m~\\AppData\\Local\\Packages\\PythonSoftwareFoundation.Python.3.11_qbz5n2kfra8p0\\LocalCache\\local-packages\\Python311\\site-packages\\xgboost\\core.py:2428\u001b[0m, in \u001b[0;36mBooster.inplace_predict\u001b[1;34m(self, data, iteration_range, predict_type, missing, validate_features, base_margin, strict_shape)\u001b[0m\n\u001b[0;32m   2424\u001b[0m         \u001b[38;5;28;01mraise\u001b[39;00m \u001b[38;5;167;01mTypeError\u001b[39;00m(\n\u001b[0;32m   2425\u001b[0m             \u001b[38;5;124m\"\u001b[39m\u001b[38;5;124m`shape` attribute is required when `validate_features` is True.\u001b[39m\u001b[38;5;124m\"\u001b[39m\n\u001b[0;32m   2426\u001b[0m         )\n\u001b[0;32m   2427\u001b[0m     \u001b[38;5;28;01mif\u001b[39;00m \u001b[38;5;28mlen\u001b[39m(data\u001b[38;5;241m.\u001b[39mshape) \u001b[38;5;241m!=\u001b[39m \u001b[38;5;241m1\u001b[39m \u001b[38;5;129;01mand\u001b[39;00m \u001b[38;5;28mself\u001b[39m\u001b[38;5;241m.\u001b[39mnum_features() \u001b[38;5;241m!=\u001b[39m data\u001b[38;5;241m.\u001b[39mshape[\u001b[38;5;241m1\u001b[39m]:\n\u001b[1;32m-> 2428\u001b[0m         \u001b[38;5;28;01mraise\u001b[39;00m \u001b[38;5;167;01mValueError\u001b[39;00m(\n\u001b[0;32m   2429\u001b[0m             \u001b[38;5;124mf\u001b[39m\u001b[38;5;124m\"\u001b[39m\u001b[38;5;124mFeature shape mismatch, expected: \u001b[39m\u001b[38;5;132;01m{\u001b[39;00m\u001b[38;5;28mself\u001b[39m\u001b[38;5;241m.\u001b[39mnum_features()\u001b[38;5;132;01m}\u001b[39;00m\u001b[38;5;124m, \u001b[39m\u001b[38;5;124m\"\u001b[39m\n\u001b[0;32m   2430\u001b[0m             \u001b[38;5;124mf\u001b[39m\u001b[38;5;124m\"\u001b[39m\u001b[38;5;124mgot \u001b[39m\u001b[38;5;132;01m{\u001b[39;00mdata\u001b[38;5;241m.\u001b[39mshape[\u001b[38;5;241m1\u001b[39m]\u001b[38;5;132;01m}\u001b[39;00m\u001b[38;5;124m\"\u001b[39m\n\u001b[0;32m   2431\u001b[0m         )\n\u001b[0;32m   2433\u001b[0m \u001b[38;5;28;01mif\u001b[39;00m _is_np_array_like(data):\n\u001b[0;32m   2434\u001b[0m     \u001b[38;5;28;01mfrom\u001b[39;00m \u001b[38;5;21;01m.\u001b[39;00m\u001b[38;5;21;01mdata\u001b[39;00m \u001b[38;5;28;01mimport\u001b[39;00m _ensure_np_dtype\n",
            "\u001b[1;31mValueError\u001b[0m: Feature shape mismatch, expected: 967, got 79"
          ]
        }
      ],
      "source": [
        "import pandas as pd\n",
        "\n",
        "# Ensure the test data has the same preprocessing as the training data\n",
        "# for col in cat_features:\n",
        "#     test[col] = test[col].astype('category')\n",
        "\n",
        "# Make predictions on the test data\n",
        "test_predictions = voting_clf.predict(one_hot_encoded_test)\n",
        "\n",
        "# Load the sample submission file to ensure the correct format\n",
        "sample_submission = pd.read_csv('D:/Local Disk C/Python project/src/Tugas/EAS PSD/sample_submission.csv')\n",
        "# Create the submission DataFrame\n",
        "submission = pd.DataFrame({\n",
        "    'id': sample_submission['id'],  # Ensure the 'id' column matches the sample submission\n",
        "    'Target': label_encoder.inverse_transform(test_predictions)  # Inverse transform if necessary\n",
        "    \n",
        "})\n",
        "# submission['Target'] = submission['Target'].replace('Graduate',1).replace('Dropout',0).replace('Enrolled',2)\n",
        "# Save the submission file\n",
        "submission.to_csv('submission1.csv', index=False)\n",
        "\n",
        "print(\"Submission file created: submission.csv\")\n"
      ]
    },
    {
      "cell_type": "code",
      "execution_count": null,
      "metadata": {
        "id": "6UhE6tGuFfeQ"
      },
      "outputs": [],
      "source": []
    },
    {
      "cell_type": "code",
      "execution_count": null,
      "metadata": {
        "id": "0LsWkTenFfeR"
      },
      "outputs": [],
      "source": []
    }
  ],
  "metadata": {
    "accelerator": "GPU",
    "colab": {
      "gpuType": "T4",
      "provenance": []
    },
    "kaggle": {
      "accelerator": "gpu",
      "dataSources": [
        {
          "databundleVersionId": 8710574,
          "sourceId": 73290,
          "sourceType": "competition"
        }
      ],
      "dockerImageVersionId": 30733,
      "isGpuEnabled": true,
      "isInternetEnabled": true,
      "language": "python",
      "sourceType": "notebook"
    },
    "kernelspec": {
      "display_name": "Python 3",
      "name": "python3"
    },
    "language_info": {
      "codemirror_mode": {
        "name": "ipython",
        "version": 3
      },
      "file_extension": ".py",
      "mimetype": "text/x-python",
      "name": "python",
      "nbconvert_exporter": "python",
      "pygments_lexer": "ipython3",
      "version": "3.11.9"
    }
  },
  "nbformat": 4,
  "nbformat_minor": 0
}
